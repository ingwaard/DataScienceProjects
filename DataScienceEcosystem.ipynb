{
 "cells": [
  {
   "cell_type": "markdown",
   "id": "c862ad3e-5e16-4b94-8e27-c4828f07d8a1",
   "metadata": {},
   "source": [
    "# Data Science Tools and Ecosystem "
   ]
  },
  {
   "cell_type": "markdown",
   "id": "94281e22-0aef-4e59-b239-109379600c39",
   "metadata": {},
   "source": [
    "In this notebook, Data Science Tools and Ecosystem are summarized. "
   ]
  },
  {
   "cell_type": "markdown",
   "id": "8e59bf7b-0666-4c97-ba84-2e75fbf46572",
   "metadata": {},
   "source": [
    "***Objectives:***\n",
    "* List popular languages for Data Science \n",
    "* List commonly used libraries for Data Scientists\n",
    "* List top 3 Data Science Tools \n",
    "* Give examples of evaluating arithmetic expressions in Python\n",
    "\n"
   ]
  },
  {
   "cell_type": "markdown",
   "id": "df76f289-b509-4309-af66-827864349f03",
   "metadata": {},
   "source": [
    "Some of the popular languages that Data Scientists use are:\n",
    "1. Python\n",
    "2. R\n",
    "3. SQL\n",
    "4. Julia\n",
    "5. Scala\n"
   ]
  },
  {
   "cell_type": "markdown",
   "id": "67033fb3-024f-4417-b879-26f54ca8463e",
   "metadata": {},
   "source": [
    "Some of the commonly used libraries used by Data Scientists include:\n",
    "1. Pandas\n",
    "2. NumPy\n",
    "3. scikit-learn\n",
    "4. Matplotlib\n",
    "5. TensorFlow"
   ]
  },
  {
   "cell_type": "markdown",
   "id": "4401f07a-842e-4d1b-9457-e9b01be92eb2",
   "metadata": {},
   "source": [
    "| Data Science Tools |\n",
    "|--------------------|\n",
    "| Jupyter Notebook |\n",
    "| VS Code (Visual Studio Code) |\n",
    "| RStudio | \n"
   ]
  },
  {
   "cell_type": "markdown",
   "id": "c59eff4b-fb50-4e33-bac8-5dd5886def5e",
   "metadata": {},
   "source": [
    "### Below are a few examples of evaluating arithmetic expressions in Python "
   ]
  },
  {
   "cell_type": "code",
   "execution_count": 2,
   "id": "19de2534-1551-43bd-9bd1-3080cf8b6c83",
   "metadata": {},
   "outputs": [
    {
     "data": {
      "text/plain": [
       "17"
      ]
     },
     "execution_count": 2,
     "metadata": {},
     "output_type": "execute_result"
    }
   ],
   "source": [
    "#This a simple arithmetic expression to mutiply then add integers \n",
    "(3 * 4) + 5"
   ]
  },
  {
   "cell_type": "code",
   "execution_count": 5,
   "id": "b62b9005-9c5a-4300-be1a-184d5c59f2b4",
   "metadata": {},
   "outputs": [
    {
     "data": {
      "text/plain": [
       "3"
      ]
     },
     "execution_count": 5,
     "metadata": {},
     "output_type": "execute_result"
    }
   ],
   "source": [
    "#This will convert 200 minutes to hours by diving by 60\n",
    "200 // 60"
   ]
  },
  {
   "cell_type": "markdown",
   "id": "eb2ed30e-8109-41c7-a05f-03944a7e000d",
   "metadata": {},
   "source": [
    "## Author\n",
    "Igor Nikitiuk\n"
   ]
  },
  {
   "cell_type": "code",
   "execution_count": null,
   "id": "57aab6a9-dc26-4913-b86d-4190015f843f",
   "metadata": {},
   "outputs": [],
   "source": []
  }
 ],
 "metadata": {
  "kernelspec": {
   "display_name": "Python [conda env:base] *",
   "language": "python",
   "name": "conda-base-py"
  },
  "language_info": {
   "codemirror_mode": {
    "name": "ipython",
    "version": 3
   },
   "file_extension": ".py",
   "mimetype": "text/x-python",
   "name": "python",
   "nbconvert_exporter": "python",
   "pygments_lexer": "ipython3",
   "version": "3.12.7"
  }
 },
 "nbformat": 4,
 "nbformat_minor": 5
}
